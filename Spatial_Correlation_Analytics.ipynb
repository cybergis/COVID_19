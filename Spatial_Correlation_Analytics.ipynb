{
 "cells": [
  {
   "cell_type": "markdown",
   "metadata": {},
   "source": [
    "# Spatial Correlation Analytics Between Population and COVID-19 Confirmed Cases in New York State\n",
    "\n",
    "## Author:  Weiye Chen & Shaohua Wang, University of Illinois at Urbana-Champaign\n"
   ]
  },
  {
   "cell_type": "markdown",
   "metadata": {},
   "source": [
    "This Jupyter notebook demonstrates spatial correlation analysis between population and CVOID-19 confirmed cases in New York State.\n",
    "\n",
    "We are taking the state of New York as our study area. This notebook uses geospatial libraries to show the spatial distribution of population data, COVID-19 confirmed cases, daily increases during the past week in the New York State, and demonstrate results for the spatial correlation analytics between population and the number of confirmed COVID-19 cases in New York State."
   ]
  },
  {
   "cell_type": "markdown",
   "metadata": {},
   "source": [
    "# Notebook Outline\n",
    "- [Data preparing](#Data)\n",
    "    - [Setup](#setup)\n",
    "    - [Population Data](#Pop)\n",
    "    - [COVID-19 Data](#CSV)\n",
    "- [Spatial Analysis](#explore)\n",
    "    - [Spatial distrinution](#spatial)\n",
    "    - [Spatio-temporal visualization](#spatialvis)\n",
    "    - [Spatial Correlation Analytics](#statistical)"
   ]
  },
  {
   "cell_type": "markdown",
   "metadata": {},
   "source": [
    "<a id='Data'></a>\n",
    "## Data Preparation\n",
    "\n",
    "The first part is a demostration that shows users how to prepare population data and COVID-19 data in New York State."
   ]
  },
  {
   "cell_type": "markdown",
   "metadata": {},
   "source": [
    "<a id='setup'></a>\n",
    "### Set up the environment by importing libraries\n",
    "This notebook depends on numpy, pandas, geopandas, shapely, and other libraries available in CyberGISX-Jupyter. In order to set up an environment to store and manipulate the Population data, we need to import these libraries."
   ]
  },
  {
   "cell_type": "code",
   "execution_count": null,
   "metadata": {},
   "outputs": [],
   "source": [
    "import pathlib\n",
    "import os\n",
    "import tarfile\n",
    "\n",
    "import requests\n",
    "import shutil\n",
    "import zipfile\n",
    " \n",
    "import pandas as pd\n",
    "\n",
    "# Plotting the population data\n",
    "import matplotlib.pyplot as plt\n",
    "import datetime\n",
    "%matplotlib inline\n",
    "\n",
    "import numpy as np\n",
    "import geopandas as gpd\n",
    "from shapely.geometry import Point\n",
    "\n",
    "import plotly.figure_factory as ff\n",
    "import plotly.express as px\n",
    "import json\n",
    "import plotly.graph_objects as go\n",
    "import cufflinks as cf\n",
    "\n",
    "import seaborn as sns\n",
    "\n",
    "import warnings\n",
    "warnings.filterwarnings(\"ignore\")"
   ]
  },
  {
   "cell_type": "markdown",
   "metadata": {},
   "source": [
    "<a id='Pop'></a>\n",
    "### Population data\n",
    "Population data for New York State"
   ]
  },
  {
   "cell_type": "markdown",
   "metadata": {},
   "source": [
    "This piece of data is formatted as a shapefile. link: https://www.arcgis.com/home/item.html?id=3b69769aa9b646a483af81d05e7702d2\n",
    "\n",
    "U.S. Counties represents the counties of the United States in the 50 states, the District of Columbia, and Puerto Rico.\n",
    "\n",
    "Originally extracted from this layer package: http://www.arcgis.com/home/item.html?id=a00d6b6149b34ed3b833e10fb72ef47b\n"
   ]
  },
  {
   "cell_type": "code",
   "execution_count": null,
   "metadata": {},
   "outputs": [],
   "source": [
    "%%time\n",
    "file = pathlib.Path(\"USA_Counties_as_Shape.zip\")\n",
    "if file.exists ():\n",
    "    print (\"Population data exist\")\n",
    "else:\n",
    "    print (\"Population data not exist, Downloading the Population data...\")\n",
    "    !wget https://s3-eu-west-1.amazonaws.com/pfigshare-u-files/22153815/USA_Counties_as_Shape.zip\n"
   ]
  },
  {
   "cell_type": "markdown",
   "metadata": {},
   "source": [
    "Show the first five records of the new york state in this shapfile. "
   ]
  },
  {
   "cell_type": "code",
   "execution_count": null,
   "metadata": {},
   "outputs": [],
   "source": [
    "%%time\n",
    "pop = gpd.read_file(\"zip://USA_Counties_as_Shape.zip\")\n",
    "pop = pop[pop.STATE_NAME=='New York']\n",
    "pop"
   ]
  },
  {
   "cell_type": "markdown",
   "metadata": {},
   "source": [
    "<a id='CSV'></a>\n",
    "### COVID-19 Data\n",
    "\n",
    "The data is retrieved from [Johns Hopkins CSSE COVID-19 cases dataset repository](https://github.com/CSSEGISandData/COVID-19/)."
   ]
  },
  {
   "cell_type": "markdown",
   "metadata": {},
   "source": [
    "The data format is CSV file."
   ]
  },
  {
   "cell_type": "code",
   "execution_count": null,
   "metadata": {},
   "outputs": [],
   "source": [
    "%%time\n",
    "confirmed_cases = pd.read_csv(\n",
    "    \"https://github.com/CSSEGISandData/COVID-19/raw/master/csse_covid_19_data/csse_covid_19_time_series/time_series_covid19_confirmed_US.csv\"\n",
    ")\n",
    "confirmed_cases = confirmed_cases[confirmed_cases['Province_State'] == 'New York']\n",
    "confirmed_cases\n",
    "#confirmed_cases.head(5)"
   ]
  },
  {
   "cell_type": "markdown",
   "metadata": {},
   "source": [
    "Show the time series data"
   ]
  },
  {
   "cell_type": "code",
   "execution_count": null,
   "metadata": {},
   "outputs": [],
   "source": [
    "columns = confirmed_cases.columns\n",
    "dates = columns[11:]\n",
    "dates"
   ]
  },
  {
   "cell_type": "code",
   "execution_count": null,
   "metadata": {},
   "outputs": [],
   "source": [
    "pop[\"Admin2\"]=pop[\"NAME\"]\n",
    "pop.shape"
   ]
  },
  {
   "cell_type": "code",
   "execution_count": null,
   "metadata": {},
   "outputs": [],
   "source": [
    "pop.describe()"
   ]
  },
  {
   "cell_type": "code",
   "execution_count": null,
   "metadata": {},
   "outputs": [],
   "source": [
    "confirmed_cases = confirmed_cases[confirmed_cases['Admin2'] != 'Unassigned']"
   ]
  },
  {
   "cell_type": "code",
   "execution_count": null,
   "metadata": {},
   "outputs": [],
   "source": [
    "confirmed_cases.head(64)"
   ]
  },
  {
   "cell_type": "markdown",
   "metadata": {},
   "source": [
    "<a id='explore'></a>\n",
    "\n",
    "## Spatial Analysis\n",
    "\n",
    "This part is a demostration that shows spatial correlation analytics bwtween population and CVOID-19 confirmed cases in New York State."
   ]
  },
  {
   "cell_type": "markdown",
   "metadata": {},
   "source": [
    "<a id='spatial'></a>\n",
    "### Spatial distribution"
   ]
  },
  {
   "cell_type": "code",
   "execution_count": null,
   "metadata": {},
   "outputs": [],
   "source": [
    "from urllib.request import urlopen\n",
    "import json\n",
    "#with urlopen('https://raw.githubusercontent.com/cybergis/COVID_19/master/counties_update_new.geojson') as response:\n",
    "with urlopen('https://raw.githubusercontent.com/plotly/datasets/master/geojson-counties-fips.json') as response:\n",
    "    counties = json.load(response)"
   ]
  },
  {
   "cell_type": "markdown",
   "metadata": {},
   "source": [
    "Show the spatial distribution of the COVID-19 Confirmed Cases in New York State using Mapbox Choropleth maps with Plotly. It will take 5 seconds to show the interactive map.\n"
   ]
  },
  {
   "cell_type": "code",
   "execution_count": null,
   "metadata": {},
   "outputs": [],
   "source": [
    "%%time\n",
    "fig = go.Figure(\n",
    "    go.Choroplethmapbox(\n",
    "        geojson=counties, locations=confirmed_cases.FIPS, \n",
    "        z=np.log1p(confirmed_cases['3/29/2020']),\n",
    "#         z=confirmed_cases['3/29/20'],\n",
    "        colorscale=\"reds\", marker_opacity=0.5, marker_line_width=0,\n",
    "        ids = confirmed_cases['Admin2'],  \n",
    "        name = 'Confirmed Cases',\n",
    "        colorbar_thickness = 10,\n",
    "        hoverinfo = 'text',\n",
    "        text = confirmed_cases['Admin2'] + ', ' + confirmed_cases['Province_State'] + '\\n' + confirmed_cases['3/29/2020'].astype('str'),\n",
    "#         showlegend = True,\n",
    "        showscale = True,\n",
    "        colorbar = dict(\n",
    "            title = \"# confirmed cases\",\n",
    "            titleside = 'top',\n",
    "            tickmode = 'array',\n",
    "            tickvals = np.arange(11),\n",
    "            ticktext = np.round(np.exp(np.arange(0,11)) - 1),\n",
    "            ticks = 'inside',\n",
    "            outlinewidth = 0\n",
    "        )\n",
    "    ))\n",
    "fig.update_layout(mapbox_style=\"carto-positron\",\n",
    "                  mapbox_zoom=5, #mapbox_center = {\"lat\": 37.0902, \"lon\": -95.7129},)\n",
    "                  mapbox_center={\"lat\": 42.7, \"lon\": -76},\n",
    "                 )\n",
    "fig.update_layout(margin={\"r\":10,\"t\":10,\"l\":10,\"b\":10})\n",
    "\n",
    "fig.show()"
   ]
  },
  {
   "cell_type": "markdown",
   "metadata": {},
   "source": [
    "The density map is shown for the COVID-19 Confirmed Cases in New York State using Mapbox Density maps with Plotly. It will take about 200 milliseconds to show the interactive map.\n"
   ]
  },
  {
   "cell_type": "code",
   "execution_count": null,
   "metadata": {},
   "outputs": [],
   "source": [
    "%%time \n",
    "fig = go.Figure(\n",
    "    go.Densitymapbox(\n",
    "        name = 'Density of Confirmed Cases',\n",
    "        opacity = 0.7,\n",
    "        z = np.log1p(confirmed_cases['3/29/2020']),\n",
    "        lat = confirmed_cases['Lat'],\n",
    "        lon = confirmed_cases['Long_'],\n",
    "        colorscale = 'reds',\n",
    "        radius = 30,\n",
    "        \n",
    "        text = confirmed_cases['Admin2'] + ', ' + confirmed_cases['Province_State'] + '\\n' + confirmed_cases['3/29/2020'].astype('str'),\n",
    "        hoverinfo = 'text',\n",
    "        colorbar = dict(\n",
    "            title = \"# confirmed cases\",\n",
    "            titleside = 'top',\n",
    "            tickmode = 'array',\n",
    "            tickvals = np.arange(11),\n",
    "            ticktext = np.round(np.exp(np.arange(0,11)) - 1),\n",
    "            ticks = 'inside',\n",
    "            outlinewidth = 0\n",
    "        )\n",
    "    )\n",
    ")\n",
    "fig.update_layout(mapbox_style=\"carto-positron\",\n",
    "                  mapbox_zoom=5, #mapbox_center = {\"lat\": 37.0902, \"lon\": -95.7129},)\n",
    "                  mapbox_center={\"lat\": 42.7, \"lon\": -76})\n",
    "fig.update_layout(margin={\"r\":0.1,\"t\":0.1,\"l\":0.1,\"b\":0.1})\n",
    "\n",
    "fig.show()"
   ]
  },
  {
   "cell_type": "markdown",
   "metadata": {},
   "source": [
    "The trend in the number of COVID-19 confirmed cases in all counties in New York."
   ]
  },
  {
   "cell_type": "code",
   "execution_count": null,
   "metadata": {},
   "outputs": [],
   "source": [
    "nyc_count = confirmed_cases\n",
    "nyc_count = nyc_count.set_index('Admin2')\n",
    "nyc_count = nyc_count.T.iloc[11:]"
   ]
  },
  {
   "cell_type": "markdown",
   "metadata": {},
   "source": [
    "Draw rectangles on the trace to zoom, and hover to see the data."
   ]
  },
  {
   "cell_type": "code",
   "execution_count": null,
   "metadata": {},
   "outputs": [],
   "source": [
    "nyc_count[-30:].iplot(asFigure=True, xTitle=\"Date\", yTitle=\"Confirmed Cases\",\n",
    "                title = \"Trend in number of confirmed cases in New York\",\n",
    "               )"
   ]
  },
  {
   "cell_type": "markdown",
   "metadata": {},
   "source": [
    "Convert the y-axis to a logarithm scale. "
   ]
  },
  {
   "cell_type": "code",
   "execution_count": null,
   "metadata": {},
   "outputs": [],
   "source": [
    "nyc_count[-30:].iplot(asFigure=True, xTitle=\"Date\", yTitle=\"Confirmed Cases\",\n",
    "                title = \"Trend in number of confirmed cases in New York (Log Scale)\",\n",
    "                     logy = True\n",
    "               )"
   ]
  },
  {
   "cell_type": "markdown",
   "metadata": {},
   "source": [
    "<a id='spatialvis'></a>\n",
    "### Spatio-temporal visualization"
   ]
  },
  {
   "cell_type": "markdown",
   "metadata": {},
   "source": [
    "Number of confirmed cases during the Past Week in New York State. It will take 30 seconds to load the dynamic maps."
   ]
  },
  {
   "cell_type": "code",
   "execution_count": null,
   "metadata": {},
   "outputs": [],
   "source": [
    "%%time\n",
    "fig = go.Figure()\n",
    "dates_ = dates[-7:]\n",
    "for date in dates_:\n",
    "    fig.add_trace(\n",
    "        dict(\n",
    "            type=\"choroplethmapbox\",\n",
    "            visible = False,\n",
    "            geojson=counties, locations=confirmed_cases.FIPS, \n",
    "            z=np.log1p(confirmed_cases[date]),\n",
    "            colorscale=\"reds\", marker_opacity=0.5, marker_line_width=0,\n",
    "            ids = confirmed_cases['Admin2'],  \n",
    "            name = 'Confirmed Cases',\n",
    "            colorbar_thickness = 10,\n",
    "            hoverinfo = 'text',\n",
    "            text = confirmed_cases['Admin2'] + ', ' + confirmed_cases['Province_State'] + '\\n' + confirmed_cases[date].astype('str'),\n",
    "            showscale = True,\n",
    "            zmin = 0,\n",
    "            zmax = 11,\n",
    "            colorbar = dict(\n",
    "#                 title = \"# confirmed cases\",\n",
    "                titleside = 'top',\n",
    "                tickmode = 'array',\n",
    "                tickvals = np.arange(11),\n",
    "                ticktext = np.round(np.exp(np.arange(0,11)) - 1),\n",
    "                ticks = 'inside',\n",
    "                outlinewidth = 0,\n",
    "                tickfont = {'color':'#a9a9a9'},\n",
    "                x = 1\n",
    "            )\n",
    "        )\n",
    "    )\n",
    "\n",
    "steps = []\n",
    "for i in range(len(fig.data)):\n",
    "    step = dict(\n",
    "        method='restyle',\n",
    "        args=[\"visible\", [False] * len(fig.data)],\n",
    "        label = dates_[i],\n",
    "    )\n",
    "    step[\"args\"][1][i] = True  # Toggle i'th trace to \"visible\"\n",
    "    steps.append(step)\n",
    "\n",
    "sliders = [dict(\n",
    "    active=0,\n",
    "    currentvalue={\"prefix\": \"Date: \"},\n",
    "    pad={\"t\": 0, 'l' : 50, 'r':50},\n",
    "    lenmode = 'fraction',\n",
    "    len = 0.8,\n",
    "    transition = {'easing': 'sin'},\n",
    "    font = {'color':'#a9a9a9'},\n",
    "    steps=steps,\n",
    ")]\n",
    "\n",
    "fig.update_layout(\n",
    "    sliders=sliders\n",
    ")\n",
    "\n",
    "fig.data[0].visible = True\n",
    "    \n",
    "fig.update_layout(\n",
    "    mapbox_style=\"carto-positron\",\n",
    "    mapbox_zoom=5, #mapbox_center = {\"lat\": 37.0902, \"lon\": -95.7129},)\n",
    "    mapbox_center={\"lat\": 42.7, \"lon\": -76},\n",
    "    margin={\"r\":10,\"t\":50,\"l\":15,\"b\":10},\n",
    "    title={\n",
    "        'text': \"Confirmed Cases during the Past Week in the State of New York\",\n",
    "        'xref': \"container\"\n",
    "    },\n",
    ")\n",
    "fig.show()\n",
    "fig.write_html('DailyConfirmedCases_NY.html')"
   ]
  },
  {
   "cell_type": "markdown",
   "metadata": {},
   "source": [
    "Daily increases during the Past Week in New York State. It will take 30 seconds to load the dynamic maps."
   ]
  },
  {
   "cell_type": "code",
   "execution_count": null,
   "metadata": {},
   "outputs": [],
   "source": [
    "%%time\n",
    "import warnings\n",
    "warnings.filterwarnings(\"ignore\")\n",
    "fig = go.Figure()\n",
    "dates_ = dates[-8:]\n",
    "for i in range(1,8):\n",
    "    date = dates_[i]\n",
    "    yesterday = dates_[i-1]\n",
    "    fig.add_trace(\n",
    "        dict(\n",
    "            type=\"choroplethmapbox\",\n",
    "            visible = False,\n",
    "            geojson=counties, locations=confirmed_cases.FIPS, \n",
    "            z=np.log1p(confirmed_cases[date] - confirmed_cases[yesterday]),\n",
    "            colorscale=\"reds\", marker_opacity=0.5, marker_line_width=0,\n",
    "            ids = confirmed_cases['Admin2'],  \n",
    "            name = 'Confirmed Cases',\n",
    "            colorbar_thickness = 10,\n",
    "            hoverinfo = 'text',\n",
    "            text = confirmed_cases['Admin2'] + ', ' + confirmed_cases['Province_State'] + ' - Daily Increase: ' + (confirmed_cases[date] - confirmed_cases[yesterday]).astype('str'),\n",
    "            showscale = True,\n",
    "            zmin = 0,\n",
    "            zmax = 8,\n",
    "            colorbar = dict(\n",
    "#                 title = \"# confirmed cases\",\n",
    "                titleside = 'top',\n",
    "                tickmode = 'array',\n",
    "                tickvals = np.arange(0,9),\n",
    "                ticktext = np.round(np.exp(np.arange(0,9)) - 1),\n",
    "                ticks = 'inside',\n",
    "                outlinewidth = 0,\n",
    "                tickfont = {'color':'#a9a9a9'},\n",
    "                x = 1\n",
    "            )\n",
    "        )\n",
    "    )\n",
    "\n",
    "steps = []\n",
    "for i in range(len(fig.data)):\n",
    "    step = dict(\n",
    "        method='restyle',\n",
    "        args=[\"visible\", [False] * len(fig.data)],\n",
    "        label = dates_[i+1],\n",
    "    )\n",
    "    step[\"args\"][1][i] = True  # Toggle i'th trace to \"visible\"\n",
    "    steps.append(step)\n",
    "\n",
    "sliders = [dict(\n",
    "    active=0,\n",
    "    currentvalue={\"prefix\": \"Date: \"},\n",
    "    pad={\"t\": 0, 'l' : 50, 'r':50},\n",
    "    lenmode = 'fraction',\n",
    "    len = 0.8,\n",
    "    transition = {'easing': 'sin'},\n",
    "    font = {'color':'#a9a9a9'},\n",
    "    steps=steps,\n",
    ")]\n",
    "\n",
    "fig.update_layout(\n",
    "    sliders=sliders\n",
    ")\n",
    "\n",
    "fig.data[0].visible = True\n",
    "    \n",
    "fig.update_layout(\n",
    "    mapbox_style=\"carto-positron\",\n",
    "    mapbox_zoom=5, #mapbox_center = {\"lat\": 37.0902, \"lon\": -95.7129},)\n",
    "    mapbox_center={\"lat\": 42.7, \"lon\": -76},\n",
    "    margin={\"r\":10,\"t\":50,\"l\":15,\"b\":10},\n",
    "    title={\n",
    "        'text': \"Daily Increases during the Past Week in the State of New York\",\n",
    "        'xref': \"container\"\n",
    "    },\n",
    ")\n",
    "\n",
    "fig.show()\n",
    "fig.write_html('DailyIncreaseConfirmedCases_NY.html')"
   ]
  },
  {
   "cell_type": "markdown",
   "metadata": {},
   "source": [
    "<a id='statistical'></a>\n",
    "### Spatial Correlation Analytics "
   ]
  },
  {
   "cell_type": "code",
   "execution_count": null,
   "metadata": {},
   "outputs": [],
   "source": [
    "sns.set(style='darkgrid', palette=\"deep\", font_scale=1.1, rc={\"figure.figsize\": [10, 8]})\n",
    "sns.distplot(pop['POP2012'], norm_hist=False, kde=False).set(xlabel='POP2012', ylabel='Count');\n",
    "plt.savefig('POP2012_distplot.png')"
   ]
  },
  {
   "cell_type": "code",
   "execution_count": null,
   "metadata": {},
   "outputs": [],
   "source": [
    "sns.jointplot(x=pop['POP2012'], y=pop['POP2010']);"
   ]
  },
  {
   "cell_type": "code",
   "execution_count": null,
   "metadata": {},
   "outputs": [],
   "source": [
    "sns.jointplot(x=pop['POP2012'], y=pop['POP12_SQMI']);"
   ]
  },
  {
   "cell_type": "code",
   "execution_count": null,
   "metadata": {},
   "outputs": [],
   "source": [
    "%%time\n",
    "merged_population = pop.merge(confirmed_cases, on=[\"Admin2\"], how='outer')\n",
    "merged_population.head()"
   ]
  },
  {
   "cell_type": "markdown",
   "metadata": {},
   "source": [
    "Exploratory data analysis for population data and COVID-19 Confirmed Cases"
   ]
  },
  {
   "cell_type": "code",
   "execution_count": null,
   "metadata": {
    "scrolled": true
   },
   "outputs": [],
   "source": [
    "%%time\n",
    "fig, ax = plt.subplots(1,2, figsize=(18,18))\n",
    "merged_population.plot(column='POP2012', scheme='Quantiles', k=5, cmap='YlGnBu', legend=True, ax=ax[0]);\n",
    "merged_population.plot(column='3/29/2020', scheme='Quantiles', k=5, cmap='YlGnBu', legend=True, ax=ax[1]);\n",
    "plt.tight_layout()\n",
    "ax[0].set_title(\"Population Count\")\n",
    "ax[1].set_title(\"COVID-19 Confirmed Cases on 3/29/2020\")\n",
    "plt.savefig('comparison.png', bbox_inches=\"tight\")\n",
    "plt.show()"
   ]
  },
  {
   "cell_type": "markdown",
   "metadata": {},
   "source": [
    "### These two figures show that there is spatial correlation between the population and COVID-19 confirmed cases."
   ]
  },
  {
   "cell_type": "markdown",
   "metadata": {},
   "source": [
    "Compute the correlation matrix between the population dataset and the COVID-19 confirmed cases dataset and plot the heatmap"
   ]
  },
  {
   "cell_type": "code",
   "execution_count": null,
   "metadata": {},
   "outputs": [],
   "source": [
    "%%time\n",
    "columns = ['POP2012','POP12_SQMI','MALES','FEMALES','WHITE','BLACK','AMERI_ES','ASIAN','HAWN_PI','HISPANIC','OTHER','3/23/2020','3/24/2020','3/25/2020', '3/26/2020', \n",
    "           '3/27/2020', '3/28/2020','3/29/2020','3/30/2020']\n",
    "\n",
    "# \n",
    "correlation = merged_population[columns].corr()\n",
    "\n",
    "fig, ax = plt.subplots(figsize=(12,10))\n",
    "\n",
    "sns.heatmap(correlation, xticklabels=columns,yticklabels=columns, ax=ax)\n",
    "\n",
    "plt.show()"
   ]
  },
  {
   "cell_type": "markdown",
   "metadata": {},
   "source": [
    "### The correlation matrix reveals the correlation between population density and the spatial distribution of the COVID-19 confirmed cases in New York State. "
   ]
  },
  {
   "cell_type": "code",
   "execution_count": null,
   "metadata": {},
   "outputs": [],
   "source": []
  }
 ],
 "metadata": {
  "kernelspec": {
   "display_name": "Python 3",
   "language": "python",
   "name": "python3"
  },
  "language_info": {
   "codemirror_mode": {
    "name": "ipython",
    "version": 3
   },
   "file_extension": ".py",
   "mimetype": "text/x-python",
   "name": "python",
   "nbconvert_exporter": "python",
   "pygments_lexer": "ipython3",
   "version": "3.7.6"
  }
 },
 "nbformat": 4,
 "nbformat_minor": 4
}
